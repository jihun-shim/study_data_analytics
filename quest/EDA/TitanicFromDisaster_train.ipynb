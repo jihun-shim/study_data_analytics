{
 "cells": [
  {
   "cell_type": "code",
   "execution_count": 11,
   "metadata": {},
   "outputs": [],
   "source": [
    "import seaborn as sns\n",
    "import matplotlib.pyplot as plt\n",
    "import matplotlib as mpl # 한글 폰트 설정 (NanumGothic) \n",
    "mpl.rcParams['font.family'] = 'NanumGothic'\n",
    "mpl.rcParams['axes.unicode_minus'] = False  # 마이너스 기호 깨짐 방지"
   ]
  },
  {
   "cell_type": "markdown",
   "metadata": {},
   "source": [
    "DDA(데이터 정의 분석) 및 EDA(탐색적 데이터 분석)에 대한 연습문제\n",
    "데이터셋: Titanic 데이터셋의 일부 (열: PassengerId, Survived, Pclass, Name, Sex, Age, SibSp, Parch, Ticket, Fare, Cabin, Embarked)\n",
    "\n",
    "I. DDA(데이터 정의 분석) 연습문제\n",
    "    \n",
    "    1. 데이터 구조 및 열 정의\n",
    "\n",
    "       # 각 열의 데이터 유형을 파악하시오.\n",
    "       # 다음 질문에 답하시오:\n",
    "            Survived 열은 어떤 값을 나타내는가? number 형태로(0,1) 생존자와 사망자 구별\n",
    "            Pclass 열의 범주는 무엇을 의미하는가? number 형태로(1,2,3) 객실의 등급\n",
    "    \n",
    "    2. 결측치 확인\n",
    "\n",
    "        # 데이터셋에서 결측치가 있는 열을 모두 나열하시오. Age, Cabin, Embarked\n",
    "        # 각 열의 결측치 개수를 계산하시오. Age = 177개 , Cabin = 687개 , Embarked = 2개"
   ]
  },
  {
   "cell_type": "code",
   "execution_count": 12,
   "metadata": {},
   "outputs": [
    {
     "data": {
      "text/html": [
       "<div>\n",
       "<style scoped>\n",
       "    .dataframe tbody tr th:only-of-type {\n",
       "        vertical-align: middle;\n",
       "    }\n",
       "\n",
       "    .dataframe tbody tr th {\n",
       "        vertical-align: top;\n",
       "    }\n",
       "\n",
       "    .dataframe thead th {\n",
       "        text-align: right;\n",
       "    }\n",
       "</style>\n",
       "<table border=\"1\" class=\"dataframe\">\n",
       "  <thead>\n",
       "    <tr style=\"text-align: right;\">\n",
       "      <th></th>\n",
       "      <th>PassengerId</th>\n",
       "      <th>Survived</th>\n",
       "      <th>Pclass</th>\n",
       "      <th>Name</th>\n",
       "      <th>Sex</th>\n",
       "      <th>Age</th>\n",
       "      <th>SibSp</th>\n",
       "      <th>Parch</th>\n",
       "      <th>Ticket</th>\n",
       "      <th>Fare</th>\n",
       "      <th>Cabin</th>\n",
       "      <th>Embarked</th>\n",
       "    </tr>\n",
       "  </thead>\n",
       "  <tbody>\n",
       "    <tr>\n",
       "      <th>0</th>\n",
       "      <td>1</td>\n",
       "      <td>0</td>\n",
       "      <td>3</td>\n",
       "      <td>Braund, Mr. Owen Harris</td>\n",
       "      <td>male</td>\n",
       "      <td>22.0</td>\n",
       "      <td>1</td>\n",
       "      <td>0</td>\n",
       "      <td>A/5 21171</td>\n",
       "      <td>7.2500</td>\n",
       "      <td>NaN</td>\n",
       "      <td>S</td>\n",
       "    </tr>\n",
       "    <tr>\n",
       "      <th>1</th>\n",
       "      <td>2</td>\n",
       "      <td>1</td>\n",
       "      <td>1</td>\n",
       "      <td>Cumings, Mrs. John Bradley (Florence Briggs Th...</td>\n",
       "      <td>female</td>\n",
       "      <td>38.0</td>\n",
       "      <td>1</td>\n",
       "      <td>0</td>\n",
       "      <td>PC 17599</td>\n",
       "      <td>71.2833</td>\n",
       "      <td>C85</td>\n",
       "      <td>C</td>\n",
       "    </tr>\n",
       "    <tr>\n",
       "      <th>2</th>\n",
       "      <td>3</td>\n",
       "      <td>1</td>\n",
       "      <td>3</td>\n",
       "      <td>Heikkinen, Miss. Laina</td>\n",
       "      <td>female</td>\n",
       "      <td>26.0</td>\n",
       "      <td>0</td>\n",
       "      <td>0</td>\n",
       "      <td>STON/O2. 3101282</td>\n",
       "      <td>7.9250</td>\n",
       "      <td>NaN</td>\n",
       "      <td>S</td>\n",
       "    </tr>\n",
       "  </tbody>\n",
       "</table>\n",
       "</div>"
      ],
      "text/plain": [
       "   PassengerId  Survived  Pclass  \\\n",
       "0            1         0       3   \n",
       "1            2         1       1   \n",
       "2            3         1       3   \n",
       "\n",
       "                                                Name     Sex   Age  SibSp  \\\n",
       "0                            Braund, Mr. Owen Harris    male  22.0      1   \n",
       "1  Cumings, Mrs. John Bradley (Florence Briggs Th...  female  38.0      1   \n",
       "2                             Heikkinen, Miss. Laina  female  26.0      0   \n",
       "\n",
       "   Parch            Ticket     Fare Cabin Embarked  \n",
       "0      0         A/5 21171   7.2500   NaN        S  \n",
       "1      0          PC 17599  71.2833   C85        C  \n",
       "2      0  STON/O2. 3101282   7.9250   NaN        S  "
      ]
     },
     "execution_count": 12,
     "metadata": {},
     "output_type": "execute_result"
    }
   ],
   "source": [
    "import pandas as pd\n",
    "df_titanic = pd.read_csv('../../datasets/TitanicFromDisaster_train.csv')\n",
    "df_titanic.head(3)"
   ]
  },
  {
   "cell_type": "code",
   "execution_count": 13,
   "metadata": {},
   "outputs": [
    {
     "name": "stdout",
     "output_type": "stream",
     "text": [
      "<class 'pandas.core.frame.DataFrame'>\n",
      "RangeIndex: 891 entries, 0 to 890\n",
      "Data columns (total 12 columns):\n",
      " #   Column       Non-Null Count  Dtype  \n",
      "---  ------       --------------  -----  \n",
      " 0   PassengerId  891 non-null    int64  \n",
      " 1   Survived     891 non-null    int64  \n",
      " 2   Pclass       891 non-null    int64  \n",
      " 3   Name         891 non-null    object \n",
      " 4   Sex          891 non-null    object \n",
      " 5   Age          714 non-null    float64\n",
      " 6   SibSp        891 non-null    int64  \n",
      " 7   Parch        891 non-null    int64  \n",
      " 8   Ticket       891 non-null    object \n",
      " 9   Fare         891 non-null    float64\n",
      " 10  Cabin        204 non-null    object \n",
      " 11  Embarked     889 non-null    object \n",
      "dtypes: float64(2), int64(5), object(5)\n",
      "memory usage: 83.7+ KB\n"
     ]
    }
   ],
   "source": [
    "df_titanic.info()"
   ]
  },
  {
   "cell_type": "markdown",
   "metadata": {},
   "source": [
    "    3. 기초 통계량 계산\n",
    "\n",
    "        # 수치형 열(Age, Fare)의 평균, 중앙값, 최댓값, 최솟값, 표준편차를 구하시오.\n",
    "        \n",
    "        ## Age : 평균 = 29.699118 , 중앙값 = 28.0, 최대값 = 80.000000 , 최솟값 = 0.420000 , 표준편차 = 14.526497\n",
    "        ## Fare : 평균 = 32.204208 , 중앙값 = 14.4542, 최대값 = 512.329200 , 최솟값 = 0.000000 , 표준편차 = 49.693429\n",
    "        \n",
    "        # 범주형 열(Sex, Embarked)의 고유값(unique values)과 각 값의 빈도를 구하시오.\n",
    "\n",
    "        ## Sex : 고유값 = 2 , 빈도 = 577\n",
    "        ## Embarked : 고유값 = 3 , 빈도 = 644"
   ]
  },
  {
   "cell_type": "code",
   "execution_count": 14,
   "metadata": {},
   "outputs": [
    {
     "data": {
      "text/plain": [
       "Fare    14.4542\n",
       "dtype: float64"
      ]
     },
     "execution_count": 14,
     "metadata": {},
     "output_type": "execute_result"
    }
   ],
   "source": [
    "df_titanic.describe(include='all')\n",
    "df_titanic[['Age']].median()\n",
    "df_titanic[['Fare']].median()"
   ]
  },
  {
   "cell_type": "markdown",
   "metadata": {},
   "source": [
    "II. EDA(탐색적 데이터 분석) 연습문제\n",
    "    \n",
    "    1. 생존 여부 분석\n",
    "\n",
    "        # Survived 열의 값(0과 1)의 빈도를 막대 그래프로 시각화하시오.\n",
    "        # 생존자 비율을 계산하시오.\n",
    "            0(사망) = 549/891 = 0.616161... = 61%\n",
    "            1(생존) = 342/891 = 0.383838... = 38%"
   ]
  },
  {
   "cell_type": "code",
   "execution_count": 21,
   "metadata": {},
   "outputs": [
    {
     "data": {
      "text/plain": [
       "Survived\n",
       "0    549\n",
       "1    342\n",
       "Name: count, dtype: int64"
      ]
     },
     "execution_count": 21,
     "metadata": {},
     "output_type": "execute_result"
    },
    {
     "data": {
      "image/png": "[encoded data removed]",
      "text/plain": [
       "<Figure size 640x480 with 1 Axes>"
      ]
     },
     "metadata": {},
     "output_type": "display_data"
    }
   ],
   "source": [
    "sns.countplot(data = df_titanic, x = 'Survived')\n",
    "df_titanic['Survived'].value_counts()"
   ]
  },
  {
   "cell_type": "markdown",
   "metadata": {},
   "source": [
    "    2. 성별에 따른 생존율 분석\n",
    "\n",
    "        # 성별(Sex)에 따라 생존자와 사망자의 분포를 막대 그래프로 나타내시오.\n",
    "        # 각 성별의 생존율(생존자 비율)을 계산하시오."
   ]
  },
  {
   "cell_type": "code",
   "execution_count": null,
   "metadata": {},
   "outputs": [],
   "source": []
  },
  {
   "cell_type": "markdown",
   "metadata": {},
   "source": [
    "    3. 객실 등급(Pclass) 분석\n",
    "\n",
    "        # 객실 등급(Pclass)별 생존율을 계산하시오.\n",
    "        # 객실 등급에 따른 생존자 수와 사망자 수를 비교하는 스택형 막대 그래프를 작성하시오."
   ]
  },
  {
   "cell_type": "markdown",
   "metadata": {},
   "source": [
    "    4. 요금(Fare) 분포\n",
    "\n",
    "        # 요금(Fare)의 분포를 히스토그램으로 나타내시오.\n",
    "        # 요금 분포에서 이상치를 확인하고 이상치가 무엇인지 설명하시오."
   ]
  },
  {
   "cell_type": "markdown",
   "metadata": {},
   "source": [
    "    5. 탑승 항구(Embarked) 분석\n",
    "\n",
    "      # 각 탑승 항구(Embarked)에서 탑승한 승객의 수를 파악하시오.\n",
    "      # 각 항구별 생존율을 계산하시오."
   ]
  },
  {
   "cell_type": "markdown",
   "metadata": {},
   "source": [
    "    6. 연령(Age) 분석\n",
    "\n",
    "        # 연령 분포를 밀도 차트로 나타내시오.\n",
    "        # 생존자와 사망자의 연령 분포를 비교하시오.\n",
    "\n",
    "III. 심화 문제\n",
    "    1. 가족 여부 분석\n",
    "\n",
    "        # SibSp(형제/자매/배우자 수)와 Parch(부모/자녀 수)를 이용해 승객이 혼자인지 또는 가족과 함께인지 확인하는 새로운 열(IsAlone)을 추가하시오.\n",
    "        # 가족 여부(IsAlone)에 따른 생존율을 계산하고 시각화하시오.\n",
    "\n",
    "    2. 요인 간 상관관계 분석\n",
    "\n",
    "        # 생존 여부(Survived)와 객실 등급(Pclass), 성별(Sex), 연령(Age) 간의 상관관계를 파악하시오.\n",
    "        # 히트맵을 활용해 주요 요인 간의 상관관계를 시각화하시오."
   ]
  },
  {
   "cell_type": "markdown",
   "metadata": {},
   "source": []
  }
 ],
 "metadata": {
  "kernelspec": {
   "display_name": "Python 3",
   "language": "python",
   "name": "python3"
  },
  "language_info": {
   "codemirror_mode": {
    "name": "ipython",
    "version": 3
   },
   "file_extension": ".py",
   "mimetype": "text/x-python",
   "name": "python",
   "nbconvert_exporter": "python",
   "pygments_lexer": "ipython3",
   "version": "3.11.11"
  }
 },
 "nbformat": 4,
 "nbformat_minor": 2
}
