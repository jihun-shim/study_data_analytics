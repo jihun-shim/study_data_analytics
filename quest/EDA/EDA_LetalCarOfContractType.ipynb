{
 "cells": [
  {
   "cell_type": "code",
   "execution_count": 164,
   "metadata": {},
   "outputs": [
    {
     "data": {
      "text/html": [
       "<div>\n",
       "<style scoped>\n",
       "    .dataframe tbody tr th:only-of-type {\n",
       "        vertical-align: middle;\n",
       "    }\n",
       "\n",
       "    .dataframe tbody tr th {\n",
       "        vertical-align: top;\n",
       "    }\n",
       "\n",
       "    .dataframe thead th {\n",
       "        text-align: right;\n",
       "    }\n",
       "</style>\n",
       "<table border=\"1\" class=\"dataframe\">\n",
       "  <thead>\n",
       "    <tr style=\"text-align: right;\">\n",
       "      <th></th>\n",
       "      <th>id</th>\n",
       "      <th>type_of_contract</th>\n",
       "      <th>type_of_contract2</th>\n",
       "      <th>channel</th>\n",
       "      <th>datetime</th>\n",
       "      <th>Term</th>\n",
       "      <th>payment_type</th>\n",
       "      <th>product</th>\n",
       "      <th>amount</th>\n",
       "      <th>state</th>\n",
       "      <th>overdue_count</th>\n",
       "      <th>overdue</th>\n",
       "      <th>credit rating</th>\n",
       "      <th>bank</th>\n",
       "      <th>cancellation</th>\n",
       "      <th>age</th>\n",
       "      <th>Mileage</th>\n",
       "    </tr>\n",
       "  </thead>\n",
       "  <tbody>\n",
       "    <tr>\n",
       "      <th>0</th>\n",
       "      <td>66758234</td>\n",
       "      <td>렌탈</td>\n",
       "      <td>Normal</td>\n",
       "      <td>서비스 방문</td>\n",
       "      <td>2019-10-20</td>\n",
       "      <td>60</td>\n",
       "      <td>CMS</td>\n",
       "      <td>K1</td>\n",
       "      <td>96900</td>\n",
       "      <td>계약확정</td>\n",
       "      <td>0</td>\n",
       "      <td>없음</td>\n",
       "      <td>9.0</td>\n",
       "      <td>새마을금고</td>\n",
       "      <td>정상</td>\n",
       "      <td>43.0</td>\n",
       "      <td>1862.0</td>\n",
       "    </tr>\n",
       "    <tr>\n",
       "      <th>1</th>\n",
       "      <td>66755948</td>\n",
       "      <td>렌탈</td>\n",
       "      <td>Extension_Rental</td>\n",
       "      <td>서비스 방문</td>\n",
       "      <td>2019-10-20</td>\n",
       "      <td>60</td>\n",
       "      <td>카드이체</td>\n",
       "      <td>K1</td>\n",
       "      <td>102900</td>\n",
       "      <td>계약확정</td>\n",
       "      <td>0</td>\n",
       "      <td>없음</td>\n",
       "      <td>2.0</td>\n",
       "      <td>현대카드</td>\n",
       "      <td>정상</td>\n",
       "      <td>62.0</td>\n",
       "      <td>2532.0</td>\n",
       "    </tr>\n",
       "    <tr>\n",
       "      <th>2</th>\n",
       "      <td>66756657</td>\n",
       "      <td>렌탈</td>\n",
       "      <td>Normal</td>\n",
       "      <td>홈쇼핑/방송</td>\n",
       "      <td>2019-10-20</td>\n",
       "      <td>60</td>\n",
       "      <td>CMS</td>\n",
       "      <td>K1</td>\n",
       "      <td>96900</td>\n",
       "      <td>계약확정</td>\n",
       "      <td>0</td>\n",
       "      <td>없음</td>\n",
       "      <td>8.0</td>\n",
       "      <td>우리은행</td>\n",
       "      <td>정상</td>\n",
       "      <td>60.0</td>\n",
       "      <td>2363.0</td>\n",
       "    </tr>\n",
       "  </tbody>\n",
       "</table>\n",
       "</div>"
      ],
      "text/plain": [
       "         id type_of_contract type_of_contract2 channel    datetime  Term  \\\n",
       "0  66758234               렌탈            Normal  서비스 방문  2019-10-20    60   \n",
       "1  66755948               렌탈  Extension_Rental  서비스 방문  2019-10-20    60   \n",
       "2  66756657               렌탈            Normal  홈쇼핑/방송  2019-10-20    60   \n",
       "\n",
       "  payment_type product  amount state  overdue_count overdue  credit rating  \\\n",
       "0          CMS      K1   96900  계약확정              0      없음            9.0   \n",
       "1         카드이체      K1  102900  계약확정              0      없음            2.0   \n",
       "2          CMS      K1   96900  계약확정              0      없음            8.0   \n",
       "\n",
       "    bank cancellation   age  Mileage  \n",
       "0  새마을금고           정상  43.0   1862.0  \n",
       "1   현대카드           정상  62.0   2532.0  \n",
       "2   우리은행           정상  60.0   2363.0  "
      ]
     },
     "execution_count": 164,
     "metadata": {},
     "output_type": "execute_result"
    }
   ],
   "source": [
    "import matplotlib.pyplot as plt\n",
    "import matplotlib as mpl # 한글 폰트 설정 (NanumGothic) \n",
    "mpl.rcParams['font.family'] = 'NanumGothic'\n",
    "mpl.rcParams['axes.unicode_minus'] = False  # 마이너스 기호 깨짐 방지\n",
    "import seaborn as sns\n",
    "import pandas as pd\n",
    "df_LetalCars = pd.read_csv('../../datasets/LetalCarOfContractType.csv')\n",
    "df_LetalCars.head(3)"
   ]
  },
  {
   "cell_type": "code",
   "execution_count": 165,
   "metadata": {},
   "outputs": [
    {
     "name": "stdout",
     "output_type": "stream",
     "text": [
      "<class 'pandas.core.frame.DataFrame'>\n",
      "RangeIndex: 51304 entries, 0 to 51303\n",
      "Data columns (total 17 columns):\n",
      " #   Column             Non-Null Count  Dtype  \n",
      "---  ------             --------------  -----  \n",
      " 0   id                 51304 non-null  int64  \n",
      " 1   type_of_contract   51300 non-null  object \n",
      " 2   type_of_contract2  51303 non-null  object \n",
      " 3   channel            51304 non-null  object \n",
      " 4   datetime           51304 non-null  object \n",
      " 5   Term               51304 non-null  int64  \n",
      " 6   payment_type       51304 non-null  object \n",
      " 7   product            51303 non-null  object \n",
      " 8   amount             51304 non-null  int64  \n",
      " 9   state              51304 non-null  object \n",
      " 10  overdue_count      51304 non-null  int64  \n",
      " 11  overdue            51302 non-null  object \n",
      " 12  credit rating      42521 non-null  float64\n",
      " 13  bank               48544 non-null  object \n",
      " 14  cancellation       51279 non-null  object \n",
      " 15  age                40509 non-null  float64\n",
      " 16  Mileage            40509 non-null  float64\n",
      "dtypes: float64(3), int64(4), object(10)\n",
      "memory usage: 6.7+ MB\n"
     ]
    }
   ],
   "source": [
    "df_LetalCars.info()"
   ]
  },
  {
   "cell_type": "markdown",
   "metadata": {},
   "source": [
    "제안 5: 신용 등급에 따른 위험 관리\n",
    "- 문제 정의: 고객의 신용 등급에 따른 위험을 분석하여, 신용 등급이 낮은 고객에 대한 위험 관리 전략을 수립합니다.\n",
    "- 배경: 신용 등급별 위험 프로필을 이해함으로써, 신용 위험이 높은 고객에 대해 적절한 관리 전략을 개발할 수 있습니다."
   ]
  },
  {
   "cell_type": "markdown",
   "metadata": {},
   "source": [
    "### 신용등급 분포 확인\n",
    "- 가장 많은 신용등급 1 > 2 > 4 > 3 > 5 > 6 > 7 > 8 > 9 > 10 , 0(nan 값)은 3등급에 합산"
   ]
  },
  {
   "cell_type": "code",
   "execution_count": 166,
   "metadata": {},
   "outputs": [
    {
     "data": {
      "text/plain": [
       "array([ 9.,  2.,  8.,  5.,  1.,  7., nan,  3.,  6.,  4., 10.,  0.])"
      ]
     },
     "execution_count": 166,
     "metadata": {},
     "output_type": "execute_result"
    }
   ],
   "source": [
    "df_LetalCars['credit rating'].unique() #종류"
   ]
  },
  {
   "cell_type": "code",
   "execution_count": 167,
   "metadata": {},
   "outputs": [
    {
     "data": {
      "text/plain": [
       "credit rating\n",
       "1.0     10778\n",
       "2.0      8228\n",
       "4.0      5379\n",
       "3.0      4997\n",
       "5.0      4317\n",
       "6.0      3818\n",
       "7.0      2717\n",
       "8.0      1542\n",
       "9.0       639\n",
       "0.0        60\n",
       "10.0       46\n",
       "Name: count, dtype: int64"
      ]
     },
     "execution_count": 167,
     "metadata": {},
     "output_type": "execute_result"
    }
   ],
   "source": [
    "df_LetalCars['credit rating'].value_counts() # 신용등급 분포도"
   ]
  },
  {
   "cell_type": "code",
   "execution_count": 168,
   "metadata": {},
   "outputs": [
    {
     "data": {
      "text/plain": [
       "count    42521.000000\n",
       "mean         3.428894\n",
       "std          2.213590\n",
       "min          0.000000\n",
       "25%          1.000000\n",
       "50%          3.000000\n",
       "75%          5.000000\n",
       "max         10.000000\n",
       "Name: credit rating, dtype: float64"
      ]
     },
     "execution_count": 168,
     "metadata": {},
     "output_type": "execute_result"
    }
   ],
   "source": [
    "df_LetalCars['credit rating'].describe()"
   ]
  },
  {
   "cell_type": "code",
   "execution_count": 169,
   "metadata": {},
   "outputs": [
    {
     "data": {
      "text/plain": [
       "60"
      ]
     },
     "execution_count": 169,
     "metadata": {},
     "output_type": "execute_result"
    }
   ],
   "source": [
    "# 0.0 신용등급 평균 등급으로 합산 \n",
    "condition = df_LetalCars['credit rating'] == 0.0\n",
    "zero_credit_rating = df_LetalCars[condition].shape[0] # shape은 데이터의 크기를 반환하는 함수 0은 행 1은 열\n",
    "zero_credit_rating # 0.0 신용등급 갯 수 확인"
   ]
  },
  {
   "cell_type": "code",
   "execution_count": 170,
   "metadata": {},
   "outputs": [
    {
     "data": {
      "text/plain": [
       "credit rating\n",
       "1.0     10778\n",
       "2.0      8228\n",
       "4.0      5379\n",
       "3.0      5057\n",
       "5.0      4317\n",
       "6.0      3818\n",
       "7.0      2717\n",
       "8.0      1542\n",
       "9.0       639\n",
       "10.0       46\n",
       "Name: count, dtype: int64"
      ]
     },
     "execution_count": 170,
     "metadata": {},
     "output_type": "execute_result"
    }
   ],
   "source": [
    "# 신용등급 0.0을 3.0으로 수정\n",
    "df_LetalCars.loc[condition, 'credit rating'] = 3.0 #loc을 사용해 해당 0.0등급을 3.0등급으로 변경\n",
    "df_LetalCars['credit rating'].value_counts() # 0.0등급 3.0등급과 합산확인 굳이 변수에 따로 담지 않음."
   ]
  },
  {
   "cell_type": "code",
   "execution_count": 171,
   "metadata": {},
   "outputs": [
    {
     "data": {
      "image/png": "[encoded data removed]",
      "text/plain": [
       "<Figure size 640x480 with 1 Axes>"
      ]
     },
     "metadata": {},
     "output_type": "display_data"
    }
   ],
   "source": [
    "sns.countplot(data = df_LetalCars, x = 'credit rating')\n",
    "plt.show()"
   ]
  },
  {
   "cell_type": "markdown",
   "metadata": {},
   "source": [
    "### 나이별 신용등급 분포 확인\n",
    "- 기준 1 (나이)\n",
    "    + 신용등급이 가장 낮을 것 같은 연령대 : 20대 이상 80대 이하\n",
    "\n",
    "- 기준 2 (신용 등급)\n",
    "    + 신용등급 : 1 ~ 10\n",
    "  \n",
    "- 확인 방법\n",
    "    + 기준 1에 해당되는 데이터를 가지고 기준 2에 해당하는 항목 매칭\n",
    "    + 기준별 차트 출력\n",
    "\n",
    "- 인사이트 : 신용등급 9.0등급을 제외한 나머지 모든 등급에서 40대가 가장 많음 40대에게 혜택을 주어 등급을 올릴 수 있게 유도"
   ]
  },
  {
   "cell_type": "code",
   "execution_count": 172,
   "metadata": {},
   "outputs": [],
   "source": [
    "# 기준 1 (나이)\n",
    "conditions_age = '20 <= age < 80'\n",
    "\n",
    "# 기준 2 (신용등급)\n",
    "conditions_1 = '`credit rating` == 1.0'\n",
    "conditions_2 = '`credit rating` == 2.0'\n",
    "conditions_3 = '`credit rating` == 3.0'\n",
    "conditions_4 = '`credit rating` == 4.0'\n",
    "conditions_5 = '`credit rating` == 5.0'\n",
    "conditions_6 = '`credit rating` == 6.0'\n",
    "conditions_7 = '`credit rating` == 7.0'\n",
    "conditions_8 = '`credit rating` == 8.0'\n",
    "conditions_9 = '`credit rating` == 9.0'\n",
    "conditions_10 = '`credit rating` == 10.0'"
   ]
  },
  {
   "cell_type": "code",
   "execution_count": 173,
   "metadata": {},
   "outputs": [],
   "source": [
    "# 연령별 신용등급 분포\n",
    "df_LetalCars_age_1 = df_LetalCars.query(f\"{conditions_age} and {conditions_1}\")\n",
    "df_LetalCars_age_2 = df_LetalCars.query(f\"{conditions_age} and {conditions_2}\")\n",
    "df_LetalCars_age_3 = df_LetalCars.query(f\"{conditions_age} and {conditions_3}\")\n",
    "df_LetalCars_age_4 = df_LetalCars.query(f\"{conditions_age} and {conditions_4}\")\n",
    "df_LetalCars_age_5 = df_LetalCars.query(f\"{conditions_age} and {conditions_5}\")\n",
    "df_LetalCars_age_6 = df_LetalCars.query(f\"{conditions_age} and {conditions_6}\")\n",
    "df_LetalCars_age_7 = df_LetalCars.query(f\"{conditions_age} and {conditions_7}\")\n",
    "df_LetalCars_age_8 = df_LetalCars.query(f\"{conditions_age} and {conditions_8}\")\n",
    "df_LetalCars_age_9 = df_LetalCars.query(f\"{conditions_age} and {conditions_9}\")\n",
    "df_LetalCars_age_10 = df_LetalCars.query(f\"{conditions_age} and {conditions_10}\")"
   ]
  },
  {
   "cell_type": "code",
   "execution_count": 174,
   "metadata": {},
   "outputs": [
    {
     "name": "stderr",
     "output_type": "stream",
     "text": [
      "/tmp/ipykernel_90207/612411842.py:4: SettingWithCopyWarning: \n",
      "A value is trying to be set on a copy of a slice from a DataFrame.\n",
      "Try using .loc[row_indexer,col_indexer] = value instead\n",
      "\n",
      "See the caveats in the documentation: https://pandas.pydata.org/pandas-docs/stable/user_guide/indexing.html#returning-a-view-versus-a-copy\n",
      "  df_LetalCars_age_1['age_group'] = pd.cut(df_LetalCars_age_1['age'], bins=bins, labels=labels)\n",
      "/tmp/ipykernel_90207/612411842.py:5: SettingWithCopyWarning: \n",
      "A value is trying to be set on a copy of a slice from a DataFrame.\n",
      "Try using .loc[row_indexer,col_indexer] = value instead\n",
      "\n",
      "See the caveats in the documentation: https://pandas.pydata.org/pandas-docs/stable/user_guide/indexing.html#returning-a-view-versus-a-copy\n",
      "  df_LetalCars_age_2['age_group'] = pd.cut(df_LetalCars_age_2['age'], bins=bins, labels=labels)\n",
      "/tmp/ipykernel_90207/612411842.py:6: SettingWithCopyWarning: \n",
      "A value is trying to be set on a copy of a slice from a DataFrame.\n",
      "Try using .loc[row_indexer,col_indexer] = value instead\n",
      "\n",
      "See the caveats in the documentation: https://pandas.pydata.org/pandas-docs/stable/user_guide/indexing.html#returning-a-view-versus-a-copy\n",
      "  df_LetalCars_age_3['age_group'] = pd.cut(df_LetalCars_age_3['age'], bins=bins, labels=labels)\n",
      "/tmp/ipykernel_90207/612411842.py:7: SettingWithCopyWarning: \n",
      "A value is trying to be set on a copy of a slice from a DataFrame.\n",
      "Try using .loc[row_indexer,col_indexer] = value instead\n",
      "\n",
      "See the caveats in the documentation: https://pandas.pydata.org/pandas-docs/stable/user_guide/indexing.html#returning-a-view-versus-a-copy\n",
      "  df_LetalCars_age_4['age_group'] = pd.cut(df_LetalCars_age_4['age'], bins=bins, labels=labels)\n",
      "/tmp/ipykernel_90207/612411842.py:8: SettingWithCopyWarning: \n",
      "A value is trying to be set on a copy of a slice from a DataFrame.\n",
      "Try using .loc[row_indexer,col_indexer] = value instead\n",
      "\n",
      "See the caveats in the documentation: https://pandas.pydata.org/pandas-docs/stable/user_guide/indexing.html#returning-a-view-versus-a-copy\n",
      "  df_LetalCars_age_5['age_group'] = pd.cut(df_LetalCars_age_5['age'], bins=bins, labels=labels)\n",
      "/tmp/ipykernel_90207/612411842.py:9: SettingWithCopyWarning: \n",
      "A value is trying to be set on a copy of a slice from a DataFrame.\n",
      "Try using .loc[row_indexer,col_indexer] = value instead\n",
      "\n",
      "See the caveats in the documentation: https://pandas.pydata.org/pandas-docs/stable/user_guide/indexing.html#returning-a-view-versus-a-copy\n",
      "  df_LetalCars_age_6['age_group'] = pd.cut(df_LetalCars_age_6['age'], bins=bins, labels=labels)\n",
      "/tmp/ipykernel_90207/612411842.py:10: SettingWithCopyWarning: \n",
      "A value is trying to be set on a copy of a slice from a DataFrame.\n",
      "Try using .loc[row_indexer,col_indexer] = value instead\n",
      "\n",
      "See the caveats in the documentation: https://pandas.pydata.org/pandas-docs/stable/user_guide/indexing.html#returning-a-view-versus-a-copy\n",
      "  df_LetalCars_age_7['age_group'] = pd.cut(df_LetalCars_age_7['age'], bins=bins, labels=labels)\n",
      "/tmp/ipykernel_90207/612411842.py:11: SettingWithCopyWarning: \n",
      "A value is trying to be set on a copy of a slice from a DataFrame.\n",
      "Try using .loc[row_indexer,col_indexer] = value instead\n",
      "\n",
      "See the caveats in the documentation: https://pandas.pydata.org/pandas-docs/stable/user_guide/indexing.html#returning-a-view-versus-a-copy\n",
      "  df_LetalCars_age_8['age_group'] = pd.cut(df_LetalCars_age_8['age'], bins=bins, labels=labels)\n",
      "/tmp/ipykernel_90207/612411842.py:12: SettingWithCopyWarning: \n",
      "A value is trying to be set on a copy of a slice from a DataFrame.\n",
      "Try using .loc[row_indexer,col_indexer] = value instead\n",
      "\n",
      "See the caveats in the documentation: https://pandas.pydata.org/pandas-docs/stable/user_guide/indexing.html#returning-a-view-versus-a-copy\n",
      "  df_LetalCars_age_9['age_group'] = pd.cut(df_LetalCars_age_9['age'], bins=bins, labels=labels)\n",
      "/tmp/ipykernel_90207/612411842.py:13: SettingWithCopyWarning: \n",
      "A value is trying to be set on a copy of a slice from a DataFrame.\n",
      "Try using .loc[row_indexer,col_indexer] = value instead\n",
      "\n",
      "See the caveats in the documentation: https://pandas.pydata.org/pandas-docs/stable/user_guide/indexing.html#returning-a-view-versus-a-copy\n",
      "  df_LetalCars_age_10['age_group'] = pd.cut(df_LetalCars_age_10['age'], bins=bins, labels=labels)\n"
     ]
    }
   ],
   "source": [
    "#연령별 1.0 신용등급 분포\n",
    "bins = [20,30,40,50,60,70,80]\n",
    "labels = ['20-29','30-39','40-49','50-59','60-69','70-79']\n",
    "df_LetalCars_age_1['age_group'] = pd.cut(df_LetalCars_age_1['age'], bins=bins, labels=labels)\n",
    "df_LetalCars_age_2['age_group'] = pd.cut(df_LetalCars_age_2['age'], bins=bins, labels=labels)\n",
    "df_LetalCars_age_3['age_group'] = pd.cut(df_LetalCars_age_3['age'], bins=bins, labels=labels)\n",
    "df_LetalCars_age_4['age_group'] = pd.cut(df_LetalCars_age_4['age'], bins=bins, labels=labels)\n",
    "df_LetalCars_age_5['age_group'] = pd.cut(df_LetalCars_age_5['age'], bins=bins, labels=labels)\n",
    "df_LetalCars_age_6['age_group'] = pd.cut(df_LetalCars_age_6['age'], bins=bins, labels=labels)\n",
    "df_LetalCars_age_7['age_group'] = pd.cut(df_LetalCars_age_7['age'], bins=bins, labels=labels)\n",
    "df_LetalCars_age_8['age_group'] = pd.cut(df_LetalCars_age_8['age'], bins=bins, labels=labels)\n",
    "df_LetalCars_age_9['age_group'] = pd.cut(df_LetalCars_age_9['age'], bins=bins, labels=labels)\n",
    "df_LetalCars_age_10['age_group'] = pd.cut(df_LetalCars_age_10['age'], bins=bins, labels=labels)\n",
    "\n",
    "# df_LetalCars_age_10.head(3)"
   ]
  },
  {
   "cell_type": "code",
   "execution_count": 175,
   "metadata": {},
   "outputs": [
    {
     "data": {
      "text/plain": [
       "age_group\n",
       "40-49    2809\n",
       "30-39    2387\n",
       "50-59    2199\n",
       "20-29    1231\n",
       "60-69    1115\n",
       "70-79     370\n",
       "Name: count, dtype: int64"
      ]
     },
     "execution_count": 175,
     "metadata": {},
     "output_type": "execute_result"
    }
   ],
   "source": [
    "# 신용등급 1.0\n",
    "df_LetalCars_age_1['age_group'].value_counts()\n"
   ]
  },
  {
   "cell_type": "code",
   "execution_count": 176,
   "metadata": {},
   "outputs": [
    {
     "data": {
      "text/plain": [
       "age_group\n",
       "40-49    2138\n",
       "30-39    1799\n",
       "50-59    1708\n",
       "20-29     922\n",
       "60-69     860\n",
       "70-79     282\n",
       "Name: count, dtype: int64"
      ]
     },
     "execution_count": 176,
     "metadata": {},
     "output_type": "execute_result"
    }
   ],
   "source": [
    "# 신용등급 2.0\n",
    "df_LetalCars_age_2['age_group'].value_counts()"
   ]
  },
  {
   "cell_type": "code",
   "execution_count": 177,
   "metadata": {},
   "outputs": [
    {
     "data": {
      "text/plain": [
       "age_group\n",
       "40-49    1310\n",
       "30-39    1109\n",
       "50-59    1047\n",
       "20-29     595\n",
       "60-69     566\n",
       "70-79     147\n",
       "Name: count, dtype: int64"
      ]
     },
     "execution_count": 177,
     "metadata": {},
     "output_type": "execute_result"
    }
   ],
   "source": [
    "# 신용등급 3.0\n",
    "df_LetalCars_age_3['age_group'].value_counts()"
   ]
  },
  {
   "cell_type": "code",
   "execution_count": 178,
   "metadata": {},
   "outputs": [
    {
     "data": {
      "text/plain": [
       "age_group\n",
       "40-49    1440\n",
       "30-39    1126\n",
       "50-59    1104\n",
       "60-69     612\n",
       "20-29     605\n",
       "70-79     189\n",
       "Name: count, dtype: int64"
      ]
     },
     "execution_count": 178,
     "metadata": {},
     "output_type": "execute_result"
    }
   ],
   "source": [
    "# 신용등급 4.0\n",
    "df_LetalCars_age_4['age_group'].value_counts()"
   ]
  },
  {
   "cell_type": "code",
   "execution_count": 179,
   "metadata": {},
   "outputs": [
    {
     "data": {
      "text/plain": [
       "age_group\n",
       "40-49    1136\n",
       "30-39     926\n",
       "50-59     880\n",
       "20-29     511\n",
       "60-69     455\n",
       "70-79     159\n",
       "Name: count, dtype: int64"
      ]
     },
     "execution_count": 179,
     "metadata": {},
     "output_type": "execute_result"
    }
   ],
   "source": [
    "# 신용등급 5.0\n",
    "df_LetalCars_age_5['age_group'].value_counts()"
   ]
  },
  {
   "cell_type": "code",
   "execution_count": 180,
   "metadata": {},
   "outputs": [
    {
     "data": {
      "text/plain": [
       "age_group\n",
       "40-49    948\n",
       "30-39    839\n",
       "50-59    797\n",
       "60-69    432\n",
       "20-29    424\n",
       "70-79    127\n",
       "Name: count, dtype: int64"
      ]
     },
     "execution_count": 180,
     "metadata": {},
     "output_type": "execute_result"
    }
   ],
   "source": [
    "# 신용등급 6.0\n",
    "df_LetalCars_age_6['age_group'].value_counts()"
   ]
  },
  {
   "cell_type": "code",
   "execution_count": 181,
   "metadata": {},
   "outputs": [
    {
     "data": {
      "text/plain": [
       "age_group\n",
       "40-49    680\n",
       "30-39    594\n",
       "50-59    593\n",
       "60-69    304\n",
       "20-29    291\n",
       "70-79     92\n",
       "Name: count, dtype: int64"
      ]
     },
     "execution_count": 181,
     "metadata": {},
     "output_type": "execute_result"
    }
   ],
   "source": [
    "# 신용등급 7.0\n",
    "df_LetalCars_age_7['age_group'].value_counts()"
   ]
  },
  {
   "cell_type": "code",
   "execution_count": 182,
   "metadata": {},
   "outputs": [
    {
     "data": {
      "text/plain": [
       "age_group\n",
       "40-49    404\n",
       "50-59    343\n",
       "30-39    317\n",
       "20-29    176\n",
       "60-69    167\n",
       "70-79     38\n",
       "Name: count, dtype: int64"
      ]
     },
     "execution_count": 182,
     "metadata": {},
     "output_type": "execute_result"
    }
   ],
   "source": [
    "# 신용등급 8.0\n",
    "df_LetalCars_age_8['age_group'].value_counts()"
   ]
  },
  {
   "cell_type": "code",
   "execution_count": 183,
   "metadata": {},
   "outputs": [
    {
     "data": {
      "text/plain": [
       "age_group\n",
       "30-39    156\n",
       "40-49    152\n",
       "50-59    141\n",
       "20-29     65\n",
       "60-69     63\n",
       "70-79     23\n",
       "Name: count, dtype: int64"
      ]
     },
     "execution_count": 183,
     "metadata": {},
     "output_type": "execute_result"
    }
   ],
   "source": [
    "# 신용등급 9.0\n",
    "df_LetalCars_age_9['age_group'].value_counts()"
   ]
  },
  {
   "cell_type": "code",
   "execution_count": 184,
   "metadata": {},
   "outputs": [
    {
     "data": {
      "text/plain": [
       "age_group\n",
       "40-49    15\n",
       "50-59    10\n",
       "30-39     9\n",
       "20-29     5\n",
       "60-69     4\n",
       "70-79     2\n",
       "Name: count, dtype: int64"
      ]
     },
     "execution_count": 184,
     "metadata": {},
     "output_type": "execute_result"
    }
   ],
   "source": [
    "# 신용등급 10.0\n",
    "df_LetalCars_age_10['age_group'].value_counts()"
   ]
  }
 ],
 "metadata": {
  "kernelspec": {
   "display_name": "Python 3",
   "language": "python",
   "name": "python3"
  },
  "language_info": {
   "codemirror_mode": {
    "name": "ipython",
    "version": 3
   },
   "file_extension": ".py",
   "mimetype": "text/x-python",
   "name": "python",
   "nbconvert_exporter": "python",
   "pygments_lexer": "ipython3",
   "version": "3.11.11"
  }
 },
 "nbformat": 4,
 "nbformat_minor": 2
}
