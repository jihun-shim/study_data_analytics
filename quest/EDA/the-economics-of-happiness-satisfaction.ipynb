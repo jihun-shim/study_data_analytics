{
 "cells": [
  {
   "cell_type": "markdown",
   "metadata": {},
   "source": [
    "### 제안 2: 지역별 만족도 차이 분석\n",
    "- 문제 정의: 평균 만족도(avg_satisfaction)와 표준 편차(std_satisfaction)를 기반으로 지역(region)별 만족도 수준과 분포의 차이를 분석합니다.\n",
    "- 배경: 특정 지역의 만족도 격차를 이해하면 지역 맞춤형 정책을 설계하는 데 유용합니다."
   ]
  },
  {
   "cell_type": "markdown",
   "metadata": {},
   "source": [
    "#### 분석을 위한 전체 흐름\n",
    "- 1. 데이터 확인 : info(), describe(), head() 로 확인, 만족도와 지역관련 컬럼을 확인\n",
    "- 2. 필요한 데이터 추출 : 분석에 필요한 컬럼(평균 만족도(avg_satisfaction), 표준 편차(std_satisfaction),지역(region))만 추출\n",
    "- 3. 지역별 평균과 표준편차 계산: 그룹화(groupby)를 통해 지역별 만족도 데이터를 요약\n",
    "- 4. 시각화 : Seaborn 과 Matplotlib을 이용해 지역별 만족도 수준과 분포를 그래프로 시각화."
   ]
  },
  {
   "cell_type": "code",
   "execution_count": 5,
   "metadata": {},
   "outputs": [
    {
     "data": {
      "text/html": [
       "<div>\n",
       "<style scoped>\n",
       "    .dataframe tbody tr th:only-of-type {\n",
       "        vertical-align: middle;\n",
       "    }\n",
       "\n",
       "    .dataframe tbody tr th {\n",
       "        vertical-align: top;\n",
       "    }\n",
       "\n",
       "    .dataframe thead th {\n",
       "        text-align: right;\n",
       "    }\n",
       "</style>\n",
       "<table border=\"1\" class=\"dataframe\">\n",
       "  <thead>\n",
       "    <tr style=\"text-align: right;\">\n",
       "      <th></th>\n",
       "      <th>country</th>\n",
       "      <th>adjusted_satisfaction</th>\n",
       "      <th>avg_satisfaction</th>\n",
       "      <th>std_satisfaction</th>\n",
       "      <th>avg_income</th>\n",
       "      <th>median_income</th>\n",
       "      <th>income_inequality</th>\n",
       "      <th>region</th>\n",
       "      <th>happyScore</th>\n",
       "      <th>GDP</th>\n",
       "      <th>country.1</th>\n",
       "    </tr>\n",
       "  </thead>\n",
       "  <tbody>\n",
       "    <tr>\n",
       "      <th>0</th>\n",
       "      <td>Armenia</td>\n",
       "      <td>37.0</td>\n",
       "      <td>4.9</td>\n",
       "      <td>2.42</td>\n",
       "      <td>2096.76</td>\n",
       "      <td>1731.506667</td>\n",
       "      <td>31.445556</td>\n",
       "      <td>'Central and Eastern Europe'</td>\n",
       "      <td>4.350</td>\n",
       "      <td>0.76821</td>\n",
       "      <td>Armenia</td>\n",
       "    </tr>\n",
       "    <tr>\n",
       "      <th>1</th>\n",
       "      <td>Angola</td>\n",
       "      <td>26.0</td>\n",
       "      <td>4.3</td>\n",
       "      <td>3.19</td>\n",
       "      <td>1448.88</td>\n",
       "      <td>1044.240000</td>\n",
       "      <td>42.720000</td>\n",
       "      <td>'Sub-Saharan Africa'</td>\n",
       "      <td>4.033</td>\n",
       "      <td>0.75778</td>\n",
       "      <td>Angola</td>\n",
       "    </tr>\n",
       "    <tr>\n",
       "      <th>2</th>\n",
       "      <td>Argentina</td>\n",
       "      <td>60.0</td>\n",
       "      <td>7.1</td>\n",
       "      <td>1.91</td>\n",
       "      <td>7101.12</td>\n",
       "      <td>5109.400000</td>\n",
       "      <td>45.475556</td>\n",
       "      <td>'Latin America and Caribbean'</td>\n",
       "      <td>6.574</td>\n",
       "      <td>1.05351</td>\n",
       "      <td>Argentina</td>\n",
       "    </tr>\n",
       "  </tbody>\n",
       "</table>\n",
       "</div>"
      ],
      "text/plain": [
       "     country  adjusted_satisfaction  avg_satisfaction  std_satisfaction  \\\n",
       "0    Armenia                   37.0               4.9              2.42   \n",
       "1     Angola                   26.0               4.3              3.19   \n",
       "2  Argentina                   60.0               7.1              1.91   \n",
       "\n",
       "   avg_income  median_income  income_inequality  \\\n",
       "0     2096.76    1731.506667          31.445556   \n",
       "1     1448.88    1044.240000          42.720000   \n",
       "2     7101.12    5109.400000          45.475556   \n",
       "\n",
       "                          region  happyScore      GDP  country.1  \n",
       "0   'Central and Eastern Europe'       4.350  0.76821    Armenia  \n",
       "1           'Sub-Saharan Africa'       4.033  0.75778     Angola  \n",
       "2  'Latin America and Caribbean'       6.574  1.05351  Argentina  "
      ]
     },
     "execution_count": 5,
     "metadata": {},
     "output_type": "execute_result"
    }
   ],
   "source": [
    "import pandas as pd\n",
    "import matplotlib.pyplot as plt\n",
    "import matplotlib as mpl\n",
    "mpl.rcParams['font.family'] = 'NanumGothic'\n",
    "mpl.rcParams['axes.unicode_minus'] = False  # 마이너스 기호 깨짐 방지\n",
    "import seaborn as sns\n",
    "\n",
    "df_happyscore = pd.read_csv('../../datasets/happyscore_income.csv')\n",
    "df_happyscore.head(3)\n"
   ]
  },
  {
   "cell_type": "code",
   "execution_count": 6,
   "metadata": {},
   "outputs": [
    {
     "name": "stdout",
     "output_type": "stream",
     "text": [
      "<class 'pandas.core.frame.DataFrame'>\n",
      "RangeIndex: 111 entries, 0 to 110\n",
      "Data columns (total 11 columns):\n",
      " #   Column                 Non-Null Count  Dtype  \n",
      "---  ------                 --------------  -----  \n",
      " 0   country                111 non-null    object \n",
      " 1   adjusted_satisfaction  111 non-null    float64\n",
      " 2   avg_satisfaction       111 non-null    float64\n",
      " 3   std_satisfaction       111 non-null    float64\n",
      " 4   avg_income             111 non-null    float64\n",
      " 5   median_income          111 non-null    float64\n",
      " 6   income_inequality      111 non-null    float64\n",
      " 7   region                 111 non-null    object \n",
      " 8   happyScore             111 non-null    float64\n",
      " 9   GDP                    111 non-null    float64\n",
      " 10  country.1              111 non-null    object \n",
      "dtypes: float64(8), object(3)\n",
      "memory usage: 9.7+ KB\n"
     ]
    },
    {
     "data": {
      "text/plain": [
       "(None,\n",
       "        adjusted_satisfaction  avg_satisfaction  std_satisfaction  \\\n",
       " count             111.000000        111.000000        111.000000   \n",
       " mean               48.729730          5.936937          2.124595   \n",
       " std                12.364131          1.356394          0.316546   \n",
       " min                19.000000          2.500000          1.380000   \n",
       " 25%                40.000000          5.100000          1.910000   \n",
       " 50%                48.000000          6.000000          2.130000   \n",
       " 75%                57.000000          7.000000          2.330000   \n",
       " max                74.000000          8.500000          3.190000   \n",
       " \n",
       "          avg_income  median_income  income_inequality  happyScore         GDP  \n",
       " count    111.000000     111.000000         111.000000  111.000000  111.000000  \n",
       " mean    6442.751416    5186.005304          38.417805    5.421910    0.841909  \n",
       " std     6479.533692    5587.037239           8.375557    1.180801    0.387591  \n",
       " min      572.880000     415.480000          24.215000    2.839000    0.015300  \n",
       " 25%     1519.388684    1167.717333          32.182857    4.568000    0.509930  \n",
       " 50%     3889.320000    2646.973333          36.480000    5.268000    0.918610  \n",
       " 75%     7867.402500    6581.124643          43.380000    6.392000    1.149485  \n",
       " max    26182.275000   22240.230000          63.726667    7.587000    1.563910  )"
      ]
     },
     "execution_count": 6,
     "metadata": {},
     "output_type": "execute_result"
    }
   ],
   "source": [
    "df_happyscore.info(),df_happyscore.describe()"
   ]
  },
  {
   "cell_type": "code",
   "execution_count": 13,
   "metadata": {},
   "outputs": [
    {
     "data": {
      "text/plain": [
       "Index(['country', 'adjusted_satisfaction', 'avg_satisfaction',\n",
       "       'std_satisfaction', 'avg_income', 'median_income', 'income_inequality',\n",
       "       'region', 'happyScore', 'GDP', 'country.1'],\n",
       "      dtype='object')"
      ]
     },
     "execution_count": 13,
     "metadata": {},
     "output_type": "execute_result"
    }
   ],
   "source": [
    "df_happyscore.columns"
   ]
  },
  {
   "cell_type": "code",
   "execution_count": 12,
   "metadata": {},
   "outputs": [
    {
     "data": {
      "text/html": [
       "<div>\n",
       "<style scoped>\n",
       "    .dataframe tbody tr th:only-of-type {\n",
       "        vertical-align: middle;\n",
       "    }\n",
       "\n",
       "    .dataframe tbody tr th {\n",
       "        vertical-align: top;\n",
       "    }\n",
       "\n",
       "    .dataframe thead th {\n",
       "        text-align: right;\n",
       "    }\n",
       "</style>\n",
       "<table border=\"1\" class=\"dataframe\">\n",
       "  <thead>\n",
       "    <tr style=\"text-align: right;\">\n",
       "      <th></th>\n",
       "      <th>avg_satisfaction</th>\n",
       "      <th>std_satisfaction</th>\n",
       "      <th>region</th>\n",
       "    </tr>\n",
       "  </thead>\n",
       "  <tbody>\n",
       "    <tr>\n",
       "      <th>0</th>\n",
       "      <td>4.9</td>\n",
       "      <td>2.42</td>\n",
       "      <td>'Central and Eastern Europe'</td>\n",
       "    </tr>\n",
       "    <tr>\n",
       "      <th>1</th>\n",
       "      <td>4.3</td>\n",
       "      <td>3.19</td>\n",
       "      <td>'Sub-Saharan Africa'</td>\n",
       "    </tr>\n",
       "    <tr>\n",
       "      <th>2</th>\n",
       "      <td>7.1</td>\n",
       "      <td>1.91</td>\n",
       "      <td>'Latin America and Caribbean'</td>\n",
       "    </tr>\n",
       "    <tr>\n",
       "      <th>3</th>\n",
       "      <td>7.2</td>\n",
       "      <td>2.11</td>\n",
       "      <td>'Western Europe'</td>\n",
       "    </tr>\n",
       "    <tr>\n",
       "      <th>4</th>\n",
       "      <td>7.6</td>\n",
       "      <td>1.80</td>\n",
       "      <td>'Australia and New Zealand'</td>\n",
       "    </tr>\n",
       "    <tr>\n",
       "      <th>...</th>\n",
       "      <td>...</td>\n",
       "      <td>...</td>\n",
       "      <td>...</td>\n",
       "    </tr>\n",
       "    <tr>\n",
       "      <th>106</th>\n",
       "      <td>7.0</td>\n",
       "      <td>2.13</td>\n",
       "      <td>'Latin America and Caribbean'</td>\n",
       "    </tr>\n",
       "    <tr>\n",
       "      <th>107</th>\n",
       "      <td>6.1</td>\n",
       "      <td>1.77</td>\n",
       "      <td>'Southeastern Asia'</td>\n",
       "    </tr>\n",
       "    <tr>\n",
       "      <th>108</th>\n",
       "      <td>6.3</td>\n",
       "      <td>2.47</td>\n",
       "      <td>'Sub-Saharan Africa'</td>\n",
       "    </tr>\n",
       "    <tr>\n",
       "      <th>109</th>\n",
       "      <td>5.0</td>\n",
       "      <td>2.61</td>\n",
       "      <td>'Sub-Saharan Africa'</td>\n",
       "    </tr>\n",
       "    <tr>\n",
       "      <th>110</th>\n",
       "      <td>4.1</td>\n",
       "      <td>2.16</td>\n",
       "      <td>'Sub-Saharan Africa'</td>\n",
       "    </tr>\n",
       "  </tbody>\n",
       "</table>\n",
       "<p>111 rows × 3 columns</p>\n",
       "</div>"
      ],
      "text/plain": [
       "     avg_satisfaction  std_satisfaction                         region\n",
       "0                 4.9              2.42   'Central and Eastern Europe'\n",
       "1                 4.3              3.19           'Sub-Saharan Africa'\n",
       "2                 7.1              1.91  'Latin America and Caribbean'\n",
       "3                 7.2              2.11               'Western Europe'\n",
       "4                 7.6              1.80    'Australia and New Zealand'\n",
       "..                ...               ...                            ...\n",
       "106               7.0              2.13  'Latin America and Caribbean'\n",
       "107               6.1              1.77            'Southeastern Asia'\n",
       "108               6.3              2.47           'Sub-Saharan Africa'\n",
       "109               5.0              2.61           'Sub-Saharan Africa'\n",
       "110               4.1              2.16           'Sub-Saharan Africa'\n",
       "\n",
       "[111 rows x 3 columns]"
      ]
     },
     "execution_count": 12,
     "metadata": {},
     "output_type": "execute_result"
    }
   ],
   "source": [
    "# 만족도와 지역 관련 데이터 확인\n",
    "df_happyscore_data = df_happyscore[['avg_satisfaction','std_satisfaction', 'region']]\n",
    "df_happyscore_data"
   ]
  },
  {
   "cell_type": "code",
   "execution_count": null,
   "metadata": {},
   "outputs": [],
   "source": [
    "df_happyscore_data.groupby()"
   ]
  }
 ],
 "metadata": {
  "kernelspec": {
   "display_name": "Python 3",
   "language": "python",
   "name": "python3"
  },
  "language_info": {
   "codemirror_mode": {
    "name": "ipython",
    "version": 3
   },
   "file_extension": ".py",
   "mimetype": "text/x-python",
   "name": "python",
   "nbconvert_exporter": "python",
   "pygments_lexer": "ipython3",
   "version": "3.11.11"
  }
 },
 "nbformat": 4,
 "nbformat_minor": 2
}
