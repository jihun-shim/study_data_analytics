{
 "cells": [
  {
   "cell_type": "code",
   "execution_count": 18,
   "metadata": {},
   "outputs": [
    {
     "data": {
      "text/html": [
       "<div>\n",
       "<style scoped>\n",
       "    .dataframe tbody tr th:only-of-type {\n",
       "        vertical-align: middle;\n",
       "    }\n",
       "\n",
       "    .dataframe tbody tr th {\n",
       "        vertical-align: top;\n",
       "    }\n",
       "\n",
       "    .dataframe thead th {\n",
       "        text-align: right;\n",
       "    }\n",
       "</style>\n",
       "<table border=\"1\" class=\"dataframe\">\n",
       "  <thead>\n",
       "    <tr style=\"text-align: right;\">\n",
       "      <th></th>\n",
       "      <th>id</th>\n",
       "      <th>type_of_contract</th>\n",
       "      <th>type_of_contract2</th>\n",
       "      <th>channel</th>\n",
       "      <th>datetime</th>\n",
       "      <th>Term</th>\n",
       "      <th>payment_type</th>\n",
       "      <th>product</th>\n",
       "      <th>amount</th>\n",
       "      <th>state</th>\n",
       "      <th>overdue_count</th>\n",
       "      <th>overdue</th>\n",
       "      <th>credit rating</th>\n",
       "      <th>bank</th>\n",
       "      <th>cancellation</th>\n",
       "      <th>age</th>\n",
       "      <th>Mileage</th>\n",
       "    </tr>\n",
       "  </thead>\n",
       "  <tbody>\n",
       "    <tr>\n",
       "      <th>0</th>\n",
       "      <td>66758234</td>\n",
       "      <td>렌탈</td>\n",
       "      <td>Normal</td>\n",
       "      <td>서비스 방문</td>\n",
       "      <td>2019-10-20</td>\n",
       "      <td>60</td>\n",
       "      <td>CMS</td>\n",
       "      <td>K1</td>\n",
       "      <td>96900</td>\n",
       "      <td>계약확정</td>\n",
       "      <td>0</td>\n",
       "      <td>없음</td>\n",
       "      <td>9.0</td>\n",
       "      <td>새마을금고</td>\n",
       "      <td>정상</td>\n",
       "      <td>43.0</td>\n",
       "      <td>1862.0</td>\n",
       "    </tr>\n",
       "    <tr>\n",
       "      <th>1</th>\n",
       "      <td>66755948</td>\n",
       "      <td>렌탈</td>\n",
       "      <td>Extension_Rental</td>\n",
       "      <td>서비스 방문</td>\n",
       "      <td>2019-10-20</td>\n",
       "      <td>60</td>\n",
       "      <td>카드이체</td>\n",
       "      <td>K1</td>\n",
       "      <td>102900</td>\n",
       "      <td>계약확정</td>\n",
       "      <td>0</td>\n",
       "      <td>없음</td>\n",
       "      <td>2.0</td>\n",
       "      <td>현대카드</td>\n",
       "      <td>정상</td>\n",
       "      <td>62.0</td>\n",
       "      <td>2532.0</td>\n",
       "    </tr>\n",
       "    <tr>\n",
       "      <th>2</th>\n",
       "      <td>66756657</td>\n",
       "      <td>렌탈</td>\n",
       "      <td>Normal</td>\n",
       "      <td>홈쇼핑/방송</td>\n",
       "      <td>2019-10-20</td>\n",
       "      <td>60</td>\n",
       "      <td>CMS</td>\n",
       "      <td>K1</td>\n",
       "      <td>96900</td>\n",
       "      <td>계약확정</td>\n",
       "      <td>0</td>\n",
       "      <td>없음</td>\n",
       "      <td>8.0</td>\n",
       "      <td>우리은행</td>\n",
       "      <td>정상</td>\n",
       "      <td>60.0</td>\n",
       "      <td>2363.0</td>\n",
       "    </tr>\n",
       "  </tbody>\n",
       "</table>\n",
       "</div>"
      ],
      "text/plain": [
       "         id type_of_contract type_of_contract2 channel    datetime  Term  \\\n",
       "0  66758234               렌탈            Normal  서비스 방문  2019-10-20    60   \n",
       "1  66755948               렌탈  Extension_Rental  서비스 방문  2019-10-20    60   \n",
       "2  66756657               렌탈            Normal  홈쇼핑/방송  2019-10-20    60   \n",
       "\n",
       "  payment_type product  amount state  overdue_count overdue  credit rating  \\\n",
       "0          CMS      K1   96900  계약확정              0      없음            9.0   \n",
       "1         카드이체      K1  102900  계약확정              0      없음            2.0   \n",
       "2          CMS      K1   96900  계약확정              0      없음            8.0   \n",
       "\n",
       "    bank cancellation   age  Mileage  \n",
       "0  새마을금고           정상  43.0   1862.0  \n",
       "1   현대카드           정상  62.0   2532.0  \n",
       "2   우리은행           정상  60.0   2363.0  "
      ]
     },
     "execution_count": 18,
     "metadata": {},
     "output_type": "execute_result"
    }
   ],
   "source": [
    "import matplotlib.pyplot as plt\n",
    "import matplotlib as mpl # 한글 폰트 설정 (NanumGothic) \n",
    "mpl.rcParams['font.family'] = 'NanumGothic'\n",
    "mpl.rcParams['axes.unicode_minus'] = False  # 마이너스 기호 깨짐 방지\n",
    "import seaborn as sns\n",
    "import pandas as pd\n",
    "df_LetalCars = pd.read_csv('../../datasets/LetalCarOfContractType.csv')\n",
    "df_LetalCars.head(3)"
   ]
  },
  {
   "cell_type": "markdown",
   "metadata": {},
   "source": [
    "### 제안 4: 세분화된 마케팅 전략 개발\n",
    "- 문제 정의: 고객 세분화를 통해 다양한 고객 그룹의 특성을 파악하고, 이를 바탕으로 맞춤형 마케팅 전략을 개발합니다.\n",
    "\n",
    "- 배경: 고객의 행동과 선호도를 더 잘 이해함으로써, 보다 효과적인 마케팅 캠페인을 수행할 수 있습니다.\n"
   ]
  },
  {
   "cell_type": "markdown",
   "metadata": {},
   "source": [
    "- 제품, 은행, 연령대, 계약 날짜를 통해 어떠한 특정달의 계약 비율이 높은지 확인하여 해당 달에 혜택을 주는 이벤트 전략 수립, \n",
    "- 특정 달, 계절, 제품 선호도, 은행 선호도등등 파악"
   ]
  },
  {
   "cell_type": "code",
   "execution_count": 19,
   "metadata": {},
   "outputs": [
    {
     "name": "stdout",
     "output_type": "stream",
     "text": [
      "<class 'pandas.core.frame.DataFrame'>\n",
      "RangeIndex: 51304 entries, 0 to 51303\n",
      "Data columns (total 17 columns):\n",
      " #   Column             Non-Null Count  Dtype  \n",
      "---  ------             --------------  -----  \n",
      " 0   id                 51304 non-null  int64  \n",
      " 1   type_of_contract   51300 non-null  object \n",
      " 2   type_of_contract2  51303 non-null  object \n",
      " 3   channel            51304 non-null  object \n",
      " 4   datetime           51304 non-null  object \n",
      " 5   Term               51304 non-null  int64  \n",
      " 6   payment_type       51304 non-null  object \n",
      " 7   product            51303 non-null  object \n",
      " 8   amount             51304 non-null  int64  \n",
      " 9   state              51304 non-null  object \n",
      " 10  overdue_count      51304 non-null  int64  \n",
      " 11  overdue            51302 non-null  object \n",
      " 12  credit rating      42521 non-null  float64\n",
      " 13  bank               48544 non-null  object \n",
      " 14  cancellation       51279 non-null  object \n",
      " 15  age                40509 non-null  float64\n",
      " 16  Mileage            40509 non-null  float64\n",
      "dtypes: float64(3), int64(4), object(10)\n",
      "memory usage: 6.7+ MB\n"
     ]
    }
   ],
   "source": [
    "df_LetalCars.info()"
   ]
  },
  {
   "cell_type": "code",
   "execution_count": 20,
   "metadata": {},
   "outputs": [
    {
     "data": {
      "text/plain": [
       "array(['2019-10-20', '2019-10-21', '2019-10-22', '2019-10-23',\n",
       "       '2019-10-24', '2019-10-25', '2019-10-26', '2019-10-27',\n",
       "       '2019-10-28', '2019-10-29', '2019-10-30', '2019-10-31',\n",
       "       '2019-11-01', '2019-11-02', '2019-11-03', '2019-11-04',\n",
       "       '2019-11-05', '2019-11-06', '2019-11-07', '2019-11-08',\n",
       "       '2019-11-09', '2019-11-10', '2019-11-11', '2019-11-12',\n",
       "       '2019-11-13', '2019-11-14', '2019-11-15', '2019-11-16',\n",
       "       '2019-11-17', '2019-11-18', '2019-11-19', '2019-11-20',\n",
       "       '2019-11-21', '2019-11-22', '2019-11-23', '2019-11-24',\n",
       "       '2019-11-25', '2019-11-26', '2019-11-27', '2019-11-28',\n",
       "       '2019-11-29', '2019-11-30', '2019-12-01', '2019-12-02',\n",
       "       '2019-12-03', '2019-12-04', '2019-12-05', '2019-12-06',\n",
       "       '2019-12-07', '2019-12-08', '2019-12-09', '2019-12-10',\n",
       "       '2019-12-11', '2019-12-12', '2019-12-13', '2019-12-14',\n",
       "       '2019-12-15', '2019-12-16', '2019-12-17', '2019-12-18',\n",
       "       '2019-12-19', '2019-12-20', '2019-12-21', '2019-12-22',\n",
       "       '2019-12-23', '2019-12-24', '2019-12-25', '2019-12-26',\n",
       "       '2019-12-27', '2019-12-28', '2019-12-29', '2019-12-30',\n",
       "       '2020-01-06', '2020-01-07', '2020-01-08', '2020-01-09',\n",
       "       '2020-01-10', '2020-01-11', '2020-01-12', '2020-01-13',\n",
       "       '2020-01-14', '2020-01-15', '2020-01-16', '2020-01-17',\n",
       "       '2020-01-18', '2020-01-19', '2020-01-20', '2020-01-21',\n",
       "       '2020-01-22', '2020-01-23', '2020-01-24', '2020-01-25',\n",
       "       '2020-01-26', '2020-01-27', '2020-01-28', '2020-01-29',\n",
       "       '2020-01-30', '2020-01-31', '2020-02-01', '2020-02-02',\n",
       "       '2020-02-03'], dtype=object)"
      ]
     },
     "execution_count": 20,
     "metadata": {},
     "output_type": "execute_result"
    }
   ],
   "source": [
    "# 계약날짜\n",
    "df_LetalCars['datetime'].unique()"
   ]
  },
  {
   "cell_type": "code",
   "execution_count": 21,
   "metadata": {},
   "outputs": [
    {
     "data": {
      "text/plain": [
       "array(['새마을금고', '현대카드', '우리은행', '농협은행', '국민은행', '롯데카드', '신한은행', '국민카드',\n",
       "       '우체국', '기업은행', 'SC제일은행', '대구은행', '하나은행', '신한카드', '삼성카드', '광주은행',\n",
       "       '외환은행', '부산은행', 'BC카드', '씨티은행', '신협중앙회', '경남은행', '미래에셋증권', '외환카드',\n",
       "       '수협중앙회', '유안타증권', '전북은행', '상호저축은행', '대신증권', '산업은행', '현대증권',\n",
       "       '산림조합중앙회', '제주은행', '삼성증권', '하나대투증권', 'SK증권', '수협카드', '한국투자증권',\n",
       "       '신한금융투자', '하나SK', 'NH농협카드', '메리츠종합금융증권', '하이투자증권', '우리카드', '대우증권',\n",
       "       '씨티카드'], dtype=object)"
      ]
     },
     "execution_count": 21,
     "metadata": {},
     "output_type": "execute_result"
    }
   ],
   "source": [
    "# nan 값 제거하고 유니크한 값 확인\n",
    "df_LetalCars['bank'].dropna().unique()\n",
    "\n",
    "#'우리은행', '농협은행', '국민은행', '신한은행', '기업은행', '하나은행'"
   ]
  },
  {
   "cell_type": "code",
   "execution_count": 22,
   "metadata": {},
   "outputs": [
    {
     "data": {
      "text/plain": [
       "count     48544\n",
       "unique       46\n",
       "top        국민은행\n",
       "freq       9901\n",
       "Name: bank, dtype: object"
      ]
     },
     "execution_count": 22,
     "metadata": {},
     "output_type": "execute_result"
    }
   ],
   "source": [
    "df_LetalCars['bank'].value_counts()\n",
    "df_LetalCars['bank'].describe()"
   ]
  },
  {
   "cell_type": "code",
   "execution_count": 23,
   "metadata": {},
   "outputs": [],
   "source": [
    "# sns.countplot(data = df_LetalCars, x ='bank')\n",
    "# plt.show()"
   ]
  },
  {
   "cell_type": "markdown",
   "metadata": {},
   "source": [
    "### 은행이용 분포 확인 (6개만)\n",
    "- 기준 1 (계약날짜)\n",
    "    + 계약날짜 : \n",
    "\n",
    "- 기준 2 (이용 은행)\n",
    "    + 이용 은행 : '우리은행', '농협은행', '국민은행', '신한은행', '기업은행', '하나은행'\n",
    "\n",
    "- 확인 방법\n",
    "    + 기준 1에 해당되는 데이터를 가지고 기준 2에 해당하는 항목 매칭\n",
    "    + 기준별 차트 출력\n",
    "\n",
    "- 인사이트 :"
   ]
  },
  {
   "cell_type": "code",
   "execution_count": 24,
   "metadata": {},
   "outputs": [
    {
     "ename": "SyntaxError",
     "evalue": "invalid syntax (4084457925.py, line 2)",
     "output_type": "error",
     "traceback": [
      "\u001b[0;36m  Cell \u001b[0;32mIn[24], line 2\u001b[0;36m\u001b[0m\n\u001b[0;31m    conditions_datetime =\u001b[0m\n\u001b[0m                          ^\u001b[0m\n\u001b[0;31mSyntaxError\u001b[0m\u001b[0;31m:\u001b[0m invalid syntax\n"
     ]
    }
   ],
   "source": [
    "# 기준 1 (계약날짜)\n",
    "conditions_datetime = \n",
    "# 기준 2 (은행)\n",
    "conditions_우리은행 = 'bank == \"우리은행\"'\n",
    "conditions_농협은행 = 'bank == \"농협은행\"'\n",
    "conditions_국민은행 = 'bank == \"국민은행\"'\n",
    "conditions_신한은행 = 'bank == \"신한은행\"'\n",
    "conditions_기업은행 = 'bank == \"기업은행\"'\n",
    "conditions_하나은행 = 'bank == \"하나은행\"'"
   ]
  },
  {
   "cell_type": "code",
   "execution_count": 9,
   "metadata": {},
   "outputs": [],
   "source": [
    "# 연령별 은행 사용 분포\n",
    "df_LetalCars_age_우리은행 = df_LetalCars.query(f\"{conditions_datetime} and {conditions_우리은행}\") \n",
    "df_LetalCars_age_농협은행 = df_LetalCars.query(f\"{conditions_datetime} and {conditions_농협은행}\") \n",
    "df_LetalCars_age_국민은행 = df_LetalCars.query(f\"{conditions_datetime} and {conditions_국민은행}\") \n",
    "df_LetalCars_age_신한은행 = df_LetalCars.query(f\"{conditions_datetime} and {conditions_신한은행}\") \n",
    "df_LetalCars_age_기업은행 = df_LetalCars.query(f\"{conditions_datetime} and {conditions_기업은행}\") \n",
    "df_LetalCars_age_하나은행 = df_LetalCars.query(f\"{conditions_datetime} and {conditions_하나은행}\") "
   ]
  },
  {
   "cell_type": "code",
   "execution_count": 10,
   "metadata": {},
   "outputs": [
    {
     "ename": "SyntaxError",
     "evalue": "invalid syntax (325158143.py, line 4)",
     "output_type": "error",
     "traceback": [
      "\u001b[0;36m  Cell \u001b[0;32mIn[10], line 4\u001b[0;36m\u001b[0m\n\u001b[0;31m    df_LetalCars_age_우리은행[]\u001b[0m\n\u001b[0m                          ^\u001b[0m\n\u001b[0;31mSyntaxError\u001b[0m\u001b[0;31m:\u001b[0m invalid syntax\n"
     ]
    }
   ],
   "source": [
    "#연령별 은행 사용 분포 확인\n",
    "bins = [20,30,40,50,60]\n",
    "labels = ['20-29','30-39','40-49','50-59']\n",
    "df_LetalCars_age_우리은행[]"
   ]
  }
 ],
 "metadata": {
  "kernelspec": {
   "display_name": "Python 3",
   "language": "python",
   "name": "python3"
  },
  "language_info": {
   "codemirror_mode": {
    "name": "ipython",
    "version": 3
   },
   "file_extension": ".py",
   "mimetype": "text/x-python",
   "name": "python",
   "nbconvert_exporter": "python",
   "pygments_lexer": "ipython3",
   "version": "3.11.11"
  }
 },
 "nbformat": 4,
 "nbformat_minor": 2
}
